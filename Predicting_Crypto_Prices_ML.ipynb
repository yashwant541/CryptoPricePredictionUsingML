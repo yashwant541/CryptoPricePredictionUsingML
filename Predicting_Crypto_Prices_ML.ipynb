{
 "cells": [
  {
   "cell_type": "code",
   "execution_count": 1,
   "id": "bcd09c5e",
   "metadata": {},
   "outputs": [
    {
     "name": "stderr",
     "output_type": "stream",
     "text": [
      "C:\\Users\\yavnv\\anaconda3\\lib\\site-packages\\yfinance\\base.py:48: FutureWarning: The default dtype for empty Series will be 'object' instead of 'float64' in a future version. Specify a dtype explicitly to silence this warning.\n",
      "  _empty_series = pd.Series()\n"
     ]
    }
   ],
   "source": [
    "import numpy as np\n",
    "import matplotlib.pyplot as plt\n",
    "import pandas as pd\n",
    "import pandas_datareader as web\n",
    "import yfinance as yf\n",
    "import datetime as dt"
   ]
  },
  {
   "cell_type": "code",
   "execution_count": 2,
   "id": "44592c09",
   "metadata": {},
   "outputs": [
    {
     "name": "stdout",
     "output_type": "stream",
     "text": [
      "WARNING:tensorflow:From C:\\Users\\yavnv\\anaconda3\\lib\\site-packages\\keras\\src\\losses.py:2976: The name tf.losses.sparse_softmax_cross_entropy is deprecated. Please use tf.compat.v1.losses.sparse_softmax_cross_entropy instead.\n",
      "\n"
     ]
    }
   ],
   "source": [
    "from sklearn.preprocessing import MinMaxScaler\n",
    "from tensorflow.keras.layers import Dense, Dropout, LSTM\n",
    "from tensorflow.keras.models import Sequential"
   ]
  },
  {
   "cell_type": "code",
   "execution_count": 3,
   "id": "f2bd865e",
   "metadata": {},
   "outputs": [],
   "source": [
    "crypto_currency = 'ADA'\n",
    "against_currency = 'USD'"
   ]
  },
  {
   "cell_type": "code",
   "execution_count": 4,
   "id": "3ae79c0e",
   "metadata": {},
   "outputs": [],
   "source": [
    "start = dt.datetime(2019,1,1)\n",
    "end = dt.datetime.now()"
   ]
  },
  {
   "cell_type": "code",
   "execution_count": 5,
   "id": "78ecdcb2",
   "metadata": {},
   "outputs": [
    {
     "data": {
      "text/plain": [
       "datetime.datetime(2019, 1, 1, 0, 0)"
      ]
     },
     "execution_count": 5,
     "metadata": {},
     "output_type": "execute_result"
    }
   ],
   "source": [
    "start"
   ]
  },
  {
   "cell_type": "code",
   "execution_count": 6,
   "id": "3bcf86d5",
   "metadata": {},
   "outputs": [
    {
     "name": "stderr",
     "output_type": "stream",
     "text": [
      "[*********************100%%**********************]  1 of 1 completed\n"
     ]
    }
   ],
   "source": [
    "data = yf.download(f'{crypto_currency}-{against_currency}', start=start, end=end)"
   ]
  },
  {
   "cell_type": "code",
   "execution_count": 7,
   "id": "1e42ccbe",
   "metadata": {},
   "outputs": [
    {
     "name": "stdout",
     "output_type": "stream",
     "text": [
      "                Open      High       Low     Close  Adj Close    Volume\n",
      "Date                                                                   \n",
      "2019-01-01  0.040984  0.042547  0.040308  0.042547   0.042547  14962902\n",
      "2019-01-02  0.042568  0.045563  0.041982  0.045258   0.045258  24151526\n",
      "2019-01-03  0.045106  0.045259  0.042535  0.042682   0.042682  21126963\n",
      "2019-01-04  0.042629  0.044092  0.042477  0.043812   0.043812  16024029\n",
      "2019-01-05  0.043659  0.045570  0.043350  0.044701   0.044701  25100965\n"
     ]
    }
   ],
   "source": [
    "#Prepare the data\n",
    "#print(data.head())"
   ]
  },
  {
   "cell_type": "code",
   "execution_count": 8,
   "id": "826fcb5c",
   "metadata": {},
   "outputs": [],
   "source": [
    "scaler = MinMaxScaler(feature_range=(0,1))\n",
    "scaled_data = scaler.fit_transform(data['Close'].values.reshape(-1,1))"
   ]
  },
  {
   "cell_type": "code",
   "execution_count": 9,
   "id": "e167af27",
   "metadata": {},
   "outputs": [],
   "source": [
    "prediction_days = 60"
   ]
  },
  {
   "cell_type": "code",
   "execution_count": 10,
   "id": "95c813eb",
   "metadata": {},
   "outputs": [],
   "source": [
    "x_train, y_train = [],[]"
   ]
  },
  {
   "cell_type": "code",
   "execution_count": 11,
   "id": "d7b7ec5f",
   "metadata": {},
   "outputs": [],
   "source": [
    "for x in range(prediction_days, len(scaled_data)):\n",
    "    x_train.append(scaled_data[x-prediction_days:x, 0])\n",
    "    y_train.append(scaled_data[x, 0])"
   ]
  },
  {
   "cell_type": "code",
   "execution_count": 12,
   "id": "c5253df3",
   "metadata": {},
   "outputs": [],
   "source": [
    "x_train, y_train = np.array(x_train), np.array(y_train)\n",
    "x_train = np.reshape(x_train, (x_train.shape[0], x_train.shape[1], 1))"
   ]
  },
  {
   "cell_type": "code",
   "execution_count": 13,
   "id": "76346022",
   "metadata": {},
   "outputs": [
    {
     "name": "stdout",
     "output_type": "stream",
     "text": [
      "WARNING:tensorflow:From C:\\Users\\yavnv\\anaconda3\\lib\\site-packages\\keras\\src\\backend.py:873: The name tf.get_default_graph is deprecated. Please use tf.compat.v1.get_default_graph instead.\n",
      "\n",
      "WARNING:tensorflow:From C:\\Users\\yavnv\\anaconda3\\lib\\site-packages\\keras\\src\\optimizers\\__init__.py:309: The name tf.train.Optimizer is deprecated. Please use tf.compat.v1.train.Optimizer instead.\n",
      "\n",
      "Epoch 1/25\n",
      "WARNING:tensorflow:From C:\\Users\\yavnv\\anaconda3\\lib\\site-packages\\keras\\src\\utils\\tf_utils.py:492: The name tf.ragged.RaggedTensorValue is deprecated. Please use tf.compat.v1.ragged.RaggedTensorValue instead.\n",
      "\n",
      "57/57 [==============================] - 18s 106ms/step - loss: 0.0078\n",
      "Epoch 2/25\n",
      "57/57 [==============================] - 6s 107ms/step - loss: 0.0030\n",
      "Epoch 3/25\n",
      "57/57 [==============================] - 6s 106ms/step - loss: 0.0027\n",
      "Epoch 4/25\n",
      "57/57 [==============================] - 6s 106ms/step - loss: 0.0026\n",
      "Epoch 5/25\n",
      "57/57 [==============================] - 6s 106ms/step - loss: 0.0017\n",
      "Epoch 6/25\n",
      "57/57 [==============================] - 6s 105ms/step - loss: 0.0017\n",
      "Epoch 7/25\n",
      "57/57 [==============================] - 6s 105ms/step - loss: 0.0016\n",
      "Epoch 8/25\n",
      "57/57 [==============================] - 6s 105ms/step - loss: 0.0017\n",
      "Epoch 9/25\n",
      "57/57 [==============================] - 6s 106ms/step - loss: 0.0017\n",
      "Epoch 10/25\n",
      "57/57 [==============================] - 6s 106ms/step - loss: 0.0016\n",
      "Epoch 11/25\n",
      "57/57 [==============================] - 6s 106ms/step - loss: 0.0014\n",
      "Epoch 12/25\n",
      "57/57 [==============================] - 6s 106ms/step - loss: 0.0014\n",
      "Epoch 13/25\n",
      "57/57 [==============================] - 6s 106ms/step - loss: 0.0014\n",
      "Epoch 14/25\n",
      "57/57 [==============================] - 6s 105ms/step - loss: 0.0013\n",
      "Epoch 15/25\n",
      "57/57 [==============================] - 6s 105ms/step - loss: 0.0013\n",
      "Epoch 16/25\n",
      "57/57 [==============================] - 6s 106ms/step - loss: 0.0014\n",
      "Epoch 17/25\n",
      "57/57 [==============================] - 6s 107ms/step - loss: 0.0013\n",
      "Epoch 18/25\n",
      "57/57 [==============================] - 6s 106ms/step - loss: 0.0012\n",
      "Epoch 19/25\n",
      "57/57 [==============================] - 6s 106ms/step - loss: 0.0011\n",
      "Epoch 20/25\n",
      "57/57 [==============================] - 6s 106ms/step - loss: 0.0011\n",
      "Epoch 21/25\n",
      "57/57 [==============================] - 6s 106ms/step - loss: 0.0014\n",
      "Epoch 22/25\n",
      "57/57 [==============================] - 6s 107ms/step - loss: 0.0011\n",
      "Epoch 23/25\n",
      "57/57 [==============================] - 6s 106ms/step - loss: 9.6555e-04\n",
      "Epoch 24/25\n",
      "57/57 [==============================] - 6s 106ms/step - loss: 0.0011\n",
      "Epoch 25/25\n",
      "57/57 [==============================] - 6s 106ms/step - loss: 0.0010\n"
     ]
    },
    {
     "data": {
      "text/plain": [
       "<keras.src.callbacks.History at 0x24de1353580>"
      ]
     },
     "execution_count": 13,
     "metadata": {},
     "output_type": "execute_result"
    }
   ],
   "source": [
    "#Create the neural network - the model for prediction\n",
    "model = Sequential()\n",
    "\n",
    "model.add(LSTM(units=50, return_sequences=True, input_shape=(x_train.shape[1], 1)))\n",
    "model.add(Dropout(0.2))\n",
    "model.add(LSTM(units=50, return_sequences=True))\n",
    "model.add(LSTM(units=50))\n",
    "model.add(Dropout(0.2))\n",
    "model.add(Dense(units=1))\n",
    "\n",
    "model.compile(optimizer='adam', loss='mean_squared_error')\n",
    "model.fit(x_train, y_train, epochs=25, batch_size=32)"
   ]
  },
  {
   "cell_type": "code",
   "execution_count": 14,
   "id": "e29688e8",
   "metadata": {},
   "outputs": [
    {
     "name": "stderr",
     "output_type": "stream",
     "text": [
      "[*********************100%%**********************]  1 of 1 completed\n"
     ]
    }
   ],
   "source": [
    "# Testing the model\n",
    "\n",
    "test_start = dt.datetime(2022,1,1)\n",
    "test_end = dt.datetime.now()\n",
    "\n",
    "test_data = yf.download(f'{crypto_currency}-{against_currency}', start=test_start, end=test_end)\n",
    "actual_prices = test_data['Close'].values"
   ]
  },
  {
   "cell_type": "code",
   "execution_count": 15,
   "id": "6560c42c",
   "metadata": {},
   "outputs": [],
   "source": [
    "total_dataset = pd.concat((data['Close'], test_data['Close']), axis=0)"
   ]
  },
  {
   "cell_type": "code",
   "execution_count": 16,
   "id": "6434ec92",
   "metadata": {},
   "outputs": [],
   "source": [
    "model_inputs = total_dataset[len(total_dataset) - len(test_data) - prediction_days:].values\n",
    "model_inputs = model_inputs.reshape(-1, 1)\n",
    "model_inputs = scaler.fit_transform(model_inputs)"
   ]
  },
  {
   "cell_type": "code",
   "execution_count": 17,
   "id": "57586d95",
   "metadata": {},
   "outputs": [],
   "source": [
    "x_test = []"
   ]
  },
  {
   "cell_type": "code",
   "execution_count": 19,
   "id": "c28043cd",
   "metadata": {},
   "outputs": [],
   "source": [
    "for x in range(prediction_days, len(model_inputs)):\n",
    "    x_test.append(model_inputs[x-prediction_days:x, 0])"
   ]
  },
  {
   "cell_type": "code",
   "execution_count": 20,
   "id": "e6846279",
   "metadata": {},
   "outputs": [],
   "source": [
    "x_test = np.array(x_test)\n",
    "x_test = np.reshape(x_test, (x_test.shape[0], x_test.shape[1], 1))"
   ]
  },
  {
   "cell_type": "code",
   "execution_count": 22,
   "id": "49a775cb",
   "metadata": {},
   "outputs": [
    {
     "name": "stdout",
     "output_type": "stream",
     "text": [
      "25/25 [==============================] - 1s 33ms/step\n"
     ]
    }
   ],
   "source": [
    "prediction_prices = model.predict(x_test)\n",
    "prediction_prices = scaler.inverse_transform(prediction_prices)"
   ]
  },
  {
   "cell_type": "code",
   "execution_count": 23,
   "id": "d3a16c8d",
   "metadata": {},
   "outputs": [
    {
     "data": {
      "image/png": "[encoded data removed]",
      "text/plain": [
       "<Figure size 640x480 with 1 Axes>"
      ]
     },
     "metadata": {},
     "output_type": "display_data"
    }
   ],
   "source": [
    "plt.plot(actual_prices, color='black', label = 'Actual Prices')\n",
    "plt.plot(prediction_prices, color='orange', label = 'Predicted Prices')\n",
    "plt.title(f'{crypto_currency} price prediction')\n",
    "plt.xlabel('Time')\n",
    "plt.ylabel('Price')\n",
    "plt.legend(loc='upper left')\n",
    "plt.show()"
   ]
  },
  {
   "cell_type": "code",
   "execution_count": 29,
   "id": "1a503f7c",
   "metadata": {},
   "outputs": [],
   "source": [
    "actual_prices_list = actual_prices.flatten()\n",
    "prediction_prices_list = prediction_prices.flatten()"
   ]
  },
  {
   "cell_type": "code",
   "execution_count": 30,
   "id": "0538ccda",
   "metadata": {},
   "outputs": [],
   "source": [
    "ADA_data = pd.DataFrame({\n",
    "    'Actual Prices' : actual_prices_list,\n",
    "    'Prediction Prices' : prediction_prices_list\n",
    "})"
   ]
  },
  {
   "cell_type": "code",
   "execution_count": 27,
   "id": "b14db091",
   "metadata": {},
   "outputs": [
    {
     "data": {
      "text/plain": [
       "numpy.ndarray"
      ]
     },
     "execution_count": 27,
     "metadata": {},
     "output_type": "execute_result"
    }
   ],
   "source": [
    "ADA_data.to_csv(r'C:\\Users\\yavnv\\OneDrive\\Desktop\\AIML\\AI Projects\\Crypto Predictor AI\\ADA_data.csv')"
   ]
  }
 ],
 "metadata": {
  "kernelspec": {
   "display_name": "Python 3 (ipykernel)",
   "language": "python",
   "name": "python3"
  },
  "language_info": {
   "codemirror_mode": {
    "name": "ipython",
    "version": 3
   },
   "file_extension": ".py",
   "mimetype": "text/x-python",
   "name": "python",
   "nbconvert_exporter": "python",
   "pygments_lexer": "ipython3",
   "version": "3.10.9"
  }
 },
 "nbformat": 4,
 "nbformat_minor": 5
}
